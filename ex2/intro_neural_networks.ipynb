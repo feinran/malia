{
 "cells": [
  {
   "cell_type": "code",
   "execution_count": 1,
   "metadata": {},
   "outputs": [],
   "source": [
    "# sets the backend of matplotlib to the 'inline' backend:\n",
    "# With this backend, the output of plotting commands is displayed inline within frontends \n",
    "# like the Jupyter notebook, directly below the code cell that produced it.\n",
    "\n",
    "%matplotlib inline "
   ]
  },
  {
   "cell_type": "markdown",
   "metadata": {},
   "source": [
    "This tutorial is adapted from the pytorch [beginner tutorials](https://pytorch.org/tutorials/beginner/basics/intro.html). Feel free to check out other available tutorials if you think you benefit from it!"
   ]
  },
  {
   "cell_type": "markdown",
   "metadata": {},
   "source": [
    "\n",
    "Build a Neural Network\n",
    "===================\n",
    "\n",
    "Neural networks comprise of layers/modules that perform operations on data.\n",
    "The [`torch.nn`](https://pytorch.org/docs/stable/nn.html) namespace provides all the building blocks you need to\n",
    "build your own neural network. Every module in PyTorch subclasses the [`nn.Module`](https://pytorch.org/docs/stable/generated/torch.nn.Module.html).\n",
    "A neural network is a module itself that consists of other modules (layers). This nested structure allows for\n",
    "building and managing complex architectures easily.\n",
    "\n",
    "In the following sections, we'll build a neural network to classify images in the FashionMNIST dataset.\n"
   ]
  },
  {
   "cell_type": "code",
   "execution_count": 2,
   "metadata": {},
   "outputs": [],
   "source": [
    "import os\n",
    "import torch\n",
    "from torch import nn"
   ]
  },
  {
   "cell_type": "markdown",
   "metadata": {},
   "source": [
    "Get Device for Training\n",
    "-----------------------\n",
    "We want to be able to train our model on a hardware accelerator like the GPU,\n",
    "if it is available. Let's check to see if\n",
    "[`torch.cuda`](https://pytorch.org/docs/stable/notes/cuda.html) is available, else we\n",
    "continue to use the CPU.\n",
    "\n"
   ]
  },
  {
   "cell_type": "code",
   "execution_count": 3,
   "metadata": {},
   "outputs": [
    {
     "name": "stdout",
     "output_type": "stream",
     "text": [
      "Using cpu device\n"
     ]
    }
   ],
   "source": [
    "device = \"cuda\" if torch.cuda.is_available() else \"cpu\"\n",
    "print(f\"Using {device} device\")"
   ]
  },
  {
   "cell_type": "markdown",
   "metadata": {},
   "source": [
    "Except if you have a cuda driver correctly installed the device in use should be \"cpu\". Later in the course you will need to work with GPU power so lets switch to google colab where free GPU is available. Execute the cell above again in google colab. Keep in mind that imports have not yet been executed in the colab environment!"
   ]
  },
  {
   "cell_type": "markdown",
   "metadata": {},
   "source": [
    "Define the Network Class\n",
    "-------------------------\n",
    "We define our neural network by subclassing ``nn.Module``, and\n",
    "initialize the neural network layers in ``__init__``. Every ``nn.Module`` subclass implements\n",
    "the operations on input data in the ``forward`` method.\n",
    "\n"
   ]
  },
  {
   "cell_type": "code",
   "execution_count": 4,
   "metadata": {},
   "outputs": [],
   "source": [
    "class NeuralNetwork(nn.Module):\n",
    "    def __init__(self):\n",
    "        super(NeuralNetwork, self).__init__()\n",
    "        self.flatten = nn.Flatten()\n",
    "        self.linear_relu_stack = nn.Sequential(\n",
    "            nn.Linear(28*28, 512),\n",
    "            nn.ReLU(),\n",
    "            nn.Linear(512, 512),\n",
    "            nn.ReLU(),\n",
    "            nn.Linear(512, 10),\n",
    "        )\n",
    "\n",
    "    def forward(self, x):\n",
    "        x = self.flatten(x)\n",
    "        logits = self.linear_relu_stack(x)\n",
    "        return logits"
   ]
  },
  {
   "cell_type": "markdown",
   "metadata": {},
   "source": [
    "We create an instance of ``NeuralNetwork``, and move it to the ``device``, and print\n",
    "its structure.\n",
    "\n"
   ]
  },
  {
   "cell_type": "code",
   "execution_count": 5,
   "metadata": {},
   "outputs": [
    {
     "name": "stdout",
     "output_type": "stream",
     "text": [
      "NeuralNetwork(\n",
      "  (flatten): Flatten(start_dim=1, end_dim=-1)\n",
      "  (linear_relu_stack): Sequential(\n",
      "    (0): Linear(in_features=784, out_features=512, bias=True)\n",
      "    (1): ReLU()\n",
      "    (2): Linear(in_features=512, out_features=512, bias=True)\n",
      "    (3): ReLU()\n",
      "    (4): Linear(in_features=512, out_features=10, bias=True)\n",
      "  )\n",
      ")\n"
     ]
    }
   ],
   "source": [
    "model = NeuralNetwork().to(device)\n",
    "print(model)"
   ]
  },
  {
   "cell_type": "markdown",
   "metadata": {},
   "source": [
    "\n",
    "\n",
    "To use the model, we pass it the input data. This executes the model's ``forward``,\n",
    "along with some [background operations](https://github.com/pytorch/pytorch/blob/270111b7b611d174967ed204776985cefca9c144/torch/nn/modules/module.py#L866).\n",
    "Do not call ``model.forward()`` directly!\n",
    "\n",
    "Calling the model on the input returns a 10-dimensional tensor with raw predicted values for each class.\n",
    "We get the prediction probabilities by passing it through an instance of the ``nn.Softmax`` module.\n",
    "\n"
   ]
  },
  {
   "cell_type": "code",
   "execution_count": 6,
   "metadata": {},
   "outputs": [
    {
     "name": "stdout",
     "output_type": "stream",
     "text": [
      "Predicted class: tensor([5])\n"
     ]
    }
   ],
   "source": [
    "X = torch.rand(1, 28, 28, device=device)  # random tensor\n",
    "logits = model(X)  # forward\n",
    "pred_probab = nn.Softmax(dim=1)(logits)  # predicted probability for all classes\n",
    "y_pred = pred_probab.argmax(1)  # predicted probability for max class\n",
    "print(f\"Predicted class: {y_pred}\")"
   ]
  },
  {
   "cell_type": "markdown",
   "metadata": {},
   "source": [
    "--------------\n",
    "\n",
    "\n"
   ]
  },
  {
   "cell_type": "markdown",
   "metadata": {},
   "source": [
    "Model Layers\n",
    "-------------------------\n",
    "\n",
    "Let's break down the layers in the NeuralNetwork model. To illustrate it, we\n",
    "will take a sample minibatch of 3 images of size 28x28 and see what happens to it as\n",
    "we pass it through the network.\n",
    "\n"
   ]
  },
  {
   "cell_type": "code",
   "execution_count": 7,
   "metadata": {},
   "outputs": [
    {
     "name": "stdout",
     "output_type": "stream",
     "text": [
      "torch.Size([3, 28, 28])\n"
     ]
    }
   ],
   "source": [
    "input_image = torch.rand(3,28,28)\n",
    "print(input_image.size())"
   ]
  },
  {
   "cell_type": "markdown",
   "metadata": {},
   "source": [
    "### nn.Flatten\n",
    "\n",
    "\n",
    "We initialize the [`nn.Flatten`](https://pytorch.org/docs/stable/generated/torch.nn.Flatten.html)\n",
    "layer to convert each 2D 28x28 image into a contiguous array of 784 pixel values (the minibatch dimension (at dim=0) is maintained).\n",
    "\n"
   ]
  },
  {
   "cell_type": "code",
   "execution_count": 8,
   "metadata": {},
   "outputs": [
    {
     "name": "stdout",
     "output_type": "stream",
     "text": [
      "torch.Size([3, 784])\n"
     ]
    }
   ],
   "source": [
    "flatten = nn.Flatten()\n",
    "flat_image = flatten(input_image)\n",
    "print(flat_image.size())"
   ]
  },
  {
   "cell_type": "markdown",
   "metadata": {},
   "source": [
    "### nn.Linear\n",
    "\n",
    "The [`linear layer`](https://pytorch.org/docs/stable/generated/torch.nn.Linear.html)\n",
    "is a module that applies a linear transformation on the input using its stored weights and biases.\n",
    "\n",
    "\n"
   ]
  },
  {
   "cell_type": "code",
   "execution_count": 9,
   "metadata": {},
   "outputs": [
    {
     "name": "stdout",
     "output_type": "stream",
     "text": [
      "torch.Size([3, 20])\n"
     ]
    }
   ],
   "source": [
    "layer1 = nn.Linear(in_features=28*28, out_features=20)\n",
    "hidden1 = layer1(flat_image)\n",
    "print(hidden1.size())"
   ]
  },
  {
   "cell_type": "markdown",
   "metadata": {},
   "source": [
    "### nn.ReLU\n",
    "\n",
    "Non-linear activations are what create the complex mappings between the model's inputs and outputs.\n",
    "They are applied after linear transformations to introduce *nonlinearity*, helping neural networks\n",
    "learn a wide variety of phenomena.\n",
    "\n",
    "In this model, we use [`nn.ReLU`](https://pytorch.org/docs/stable/generated/torch.nn.ReLU.html) between our\n",
    "linear layers, but there's other activations to introduce non-linearity in your model.\n",
    "\n"
   ]
  },
  {
   "cell_type": "code",
   "execution_count": 10,
   "metadata": {},
   "outputs": [
    {
     "name": "stdout",
     "output_type": "stream",
     "text": [
      "Before ReLU: tensor([[ 0.1164,  0.3738, -0.0132,  0.1139, -0.9814,  0.1526, -0.4781, -0.1578,\n",
      "         -0.3161,  0.3852, -0.0955,  0.0505, -0.0678,  0.1836,  0.3640,  0.0552,\n",
      "          0.1291,  0.1889,  0.1535, -0.1237],\n",
      "        [ 0.3068,  0.3626,  0.3630, -0.0866, -0.8257,  0.3692, -0.1242, -0.0092,\n",
      "          0.0695,  0.2260,  0.2021, -0.1438,  0.2249, -0.1812,  0.3892,  0.0401,\n",
      "          0.1500,  0.1900, -0.1248, -0.3112],\n",
      "        [ 0.2249,  0.2919,  0.3052,  0.4195, -0.6052,  0.1030, -0.1671, -0.0443,\n",
      "         -0.4138,  0.6158,  0.1827, -0.1795,  0.1126, -0.0261,  0.3051, -0.1185,\n",
      "          0.1720,  0.3123,  0.3938, -0.4658]], grad_fn=<AddmmBackward0>)\n",
      "\n",
      "\n",
      "After ReLU: tensor([[0.1164, 0.3738, 0.0000, 0.1139, 0.0000, 0.1526, 0.0000, 0.0000, 0.0000,\n",
      "         0.3852, 0.0000, 0.0505, 0.0000, 0.1836, 0.3640, 0.0552, 0.1291, 0.1889,\n",
      "         0.1535, 0.0000],\n",
      "        [0.3068, 0.3626, 0.3630, 0.0000, 0.0000, 0.3692, 0.0000, 0.0000, 0.0695,\n",
      "         0.2260, 0.2021, 0.0000, 0.2249, 0.0000, 0.3892, 0.0401, 0.1500, 0.1900,\n",
      "         0.0000, 0.0000],\n",
      "        [0.2249, 0.2919, 0.3052, 0.4195, 0.0000, 0.1030, 0.0000, 0.0000, 0.0000,\n",
      "         0.6158, 0.1827, 0.0000, 0.1126, 0.0000, 0.3051, 0.0000, 0.1720, 0.3123,\n",
      "         0.3938, 0.0000]], grad_fn=<ReluBackward0>)\n"
     ]
    }
   ],
   "source": [
    "print(f\"Before ReLU: {hidden1}\\n\\n\")\n",
    "hidden1 = nn.ReLU()(hidden1)\n",
    "print(f\"After ReLU: {hidden1}\")"
   ]
  },
  {
   "cell_type": "markdown",
   "metadata": {},
   "source": [
    "### nn.Sequential\n",
    "\n",
    "[`nn.Sequential`](https://pytorch.org/docs/stable/generated/torch.nn.Sequential.html) is an ordered\n",
    "container of modules. The data is passed through all the modules in the same order as defined. You can use\n",
    "sequential containers to put together a quick network like ``seq_modules``.\n",
    "\n"
   ]
  },
  {
   "cell_type": "code",
   "execution_count": 11,
   "metadata": {},
   "outputs": [
    {
     "name": "stdout",
     "output_type": "stream",
     "text": [
      "tensor([[-0.1864,  0.2035,  0.0393,  0.0367,  0.1981,  0.0259, -0.1089,  0.0641,\n",
      "          0.1717,  0.1522],\n",
      "        [-0.2406,  0.1357,  0.0377, -0.0170,  0.1773,  0.1343, -0.0737, -0.0654,\n",
      "          0.1175,  0.2538],\n",
      "        [-0.3234,  0.1562,  0.1608,  0.1717,  0.2804,  0.2513, -0.1030, -0.1725,\n",
      "         -0.0105,  0.3073]], grad_fn=<AddmmBackward0>)\n"
     ]
    }
   ],
   "source": [
    "seq_modules = nn.Sequential(\n",
    "    flatten,\n",
    "    layer1,\n",
    "    nn.ReLU(),\n",
    "    nn.Linear(20, 10)\n",
    ")\n",
    "input_image = torch.rand(3,28,28)\n",
    "logits = seq_modules(input_image)\n",
    "\n",
    "print(logits)"
   ]
  },
  {
   "cell_type": "markdown",
   "metadata": {},
   "source": [
    "### nn.Softmax\n",
    "\n",
    "The last linear layer of the neural network returns `logits` - raw values in `[-infty, infty]` - which are passed to the\n",
    "[`nn.Softmax`](https://pytorch.org/docs/stable/generated/torch.nn.Softmax.html) module. The logits are scaled to values\n",
    "[0, 1] representing the model's predicted probabilities for each class. ``dim`` parameter indicates the dimension along\n",
    "which the values must sum to 1.\n",
    "\n"
   ]
  },
  {
   "cell_type": "code",
   "execution_count": 12,
   "metadata": {},
   "outputs": [
    {
     "name": "stdout",
     "output_type": "stream",
     "text": [
      "tensor([[0.0776, 0.1146, 0.0973, 0.0970, 0.1140, 0.0960, 0.0839, 0.0997, 0.1110,\n",
      "         0.1089],\n",
      "        [0.0744, 0.1084, 0.0982, 0.0930, 0.1130, 0.1082, 0.0879, 0.0886, 0.1064,\n",
      "         0.1219],\n",
      "        [0.0661, 0.1067, 0.1072, 0.1084, 0.1208, 0.1173, 0.0823, 0.0768, 0.0903,\n",
      "         0.1241]], grad_fn=<SoftmaxBackward0>)\n"
     ]
    }
   ],
   "source": [
    "softmax = nn.Softmax(dim=1)\n",
    "pred_probab = softmax(logits)\n",
    "\n",
    "print(pred_probab)"
   ]
  },
  {
   "cell_type": "markdown",
   "metadata": {},
   "source": [
    "Model Parameters\n",
    "-------------------------\n",
    "Many layers inside a neural network are *parameterized*, i.e. have associated weights\n",
    "and biases that are optimized during training. Subclassing ``nn.Module`` automatically\n",
    "tracks all fields defined inside your model object, and makes all parameters\n",
    "accessible using your model's ``parameters()`` or ``named_parameters()`` methods.\n",
    "\n",
    "In this example, we iterate over each parameter, and print its size and a preview of its values.\n",
    "\n",
    "\n"
   ]
  },
  {
   "cell_type": "code",
   "execution_count": 13,
   "metadata": {},
   "outputs": [
    {
     "name": "stdout",
     "output_type": "stream",
     "text": [
      "Model structure: NeuralNetwork(\n",
      "  (flatten): Flatten(start_dim=1, end_dim=-1)\n",
      "  (linear_relu_stack): Sequential(\n",
      "    (0): Linear(in_features=784, out_features=512, bias=True)\n",
      "    (1): ReLU()\n",
      "    (2): Linear(in_features=512, out_features=512, bias=True)\n",
      "    (3): ReLU()\n",
      "    (4): Linear(in_features=512, out_features=10, bias=True)\n",
      "  )\n",
      ")\n",
      "\n",
      "\n",
      "Layer: linear_relu_stack.0.weight | Size: torch.Size([512, 784]) | Values : tensor([[-0.0121,  0.0041, -0.0298,  ...,  0.0147, -0.0250, -0.0183],\n",
      "        [ 0.0069, -0.0236,  0.0281,  ...,  0.0212,  0.0066,  0.0083]],\n",
      "       grad_fn=<SliceBackward0>) \n",
      "\n",
      "Layer: linear_relu_stack.0.bias | Size: torch.Size([512]) | Values : tensor([0.0061, 0.0120], grad_fn=<SliceBackward0>) \n",
      "\n",
      "Layer: linear_relu_stack.2.weight | Size: torch.Size([512, 512]) | Values : tensor([[-0.0071, -0.0022, -0.0386,  ..., -0.0212, -0.0318, -0.0080],\n",
      "        [-0.0267,  0.0267, -0.0171,  ...,  0.0300,  0.0329,  0.0399]],\n",
      "       grad_fn=<SliceBackward0>) \n",
      "\n",
      "Layer: linear_relu_stack.2.bias | Size: torch.Size([512]) | Values : tensor([-0.0062, -0.0296], grad_fn=<SliceBackward0>) \n",
      "\n",
      "Layer: linear_relu_stack.4.weight | Size: torch.Size([10, 512]) | Values : tensor([[-0.0049, -0.0315,  0.0386,  ..., -0.0226,  0.0029,  0.0036],\n",
      "        [-0.0417,  0.0289, -0.0126,  ...,  0.0167, -0.0174, -0.0343]],\n",
      "       grad_fn=<SliceBackward0>) \n",
      "\n",
      "Layer: linear_relu_stack.4.bias | Size: torch.Size([10]) | Values : tensor([-0.0222,  0.0032], grad_fn=<SliceBackward0>) \n",
      "\n"
     ]
    }
   ],
   "source": [
    "print(f\"Model structure: {model}\\n\\n\")\n",
    "\n",
    "for name, param in model.named_parameters():\n",
    "    print(f\"Layer: {name} | Size: {param.size()} | Values : {param[:2]} \\n\")"
   ]
  },
  {
   "cell_type": "markdown",
   "metadata": {},
   "source": [
    "--------------\n",
    "\n",
    "\n"
   ]
  },
  {
   "cell_type": "markdown",
   "metadata": {},
   "source": [
    "Load Data\n",
    "===========================\n",
    "\n",
    "To do something with your model we actually need a task. So let's get some data. Convieniently, some datasets are available in the torchvision library. We will load them using the DataLoader class from [`torch.utils.data`](https://pytorch.org/docs/stable/data.html?highlight=dataloader#). "
   ]
  },
  {
   "cell_type": "code",
   "execution_count": 14,
   "metadata": {},
   "outputs": [],
   "source": [
    "from torch.utils.data import DataLoader\n",
    "from torchvision import datasets, transforms\n",
    "from torchvision.transforms import ToTensor"
   ]
  },
  {
   "cell_type": "code",
   "execution_count": 15,
   "metadata": {},
   "outputs": [],
   "source": [
    "training_data = datasets.FashionMNIST(\n",
    "    root=\"data\",\n",
    "    train=True,\n",
    "    download=True,\n",
    "    transform=ToTensor()\n",
    ")\n",
    "\n",
    "test_data = datasets.FashionMNIST(\n",
    "    root=\"data\",\n",
    "    train=False,\n",
    "    download=True,\n",
    "    transform=ToTensor()\n",
    ")\n",
    "\n",
    "train_dataloader = DataLoader(training_data, batch_size=64)\n",
    "test_dataloader = DataLoader(test_data, batch_size=64)"
   ]
  },
  {
   "cell_type": "markdown",
   "metadata": {},
   "source": [
    "--------------"
   ]
  },
  {
   "cell_type": "markdown",
   "metadata": {},
   "source": [
    "\n",
    "Optimizing Model Parameters\n",
    "===========================\n",
    "\n",
    "Now that we have a model and data it's time to train, validate and test our model by optimizing its parameters on\n",
    "our data. Training a model is an iterative process; in each iteration (called an *epoch*) the model makes a guess about the output, calculates the error in its guess (*loss*), collects the derivatives of the error with respect to its parameters, and **optimizes** these parameters using gradient descent."
   ]
  },
  {
   "cell_type": "markdown",
   "metadata": {},
   "source": [
    "Hyperparameters\n",
    "-----------------\n",
    "\n",
    "Hyperparameters are adjustable parameters that let you control the model optimization process.\n",
    "Different hyperparameter values can impact model training and convergence rates\n",
    "([read more](https://pytorch.org/tutorials/beginner/hyperparameter_tuning_tutorial.html) about hyperparameter tuning if you like)\n",
    "\n",
    "We define the following hyperparameters for training:\n",
    " - **Number of Epochs** - the number times to iterate over the dataset\n",
    " - **Batch Size** - the number of data samples propagated through the network before the parameters are updated\n",
    " - **Learning Rate** - how much to update models parameters at each batch/epoch. Smaller values yield slow learning speed, while large values may result in unpredictable behavior during training.\n",
    "\n"
   ]
  },
  {
   "cell_type": "code",
   "execution_count": 16,
   "metadata": {},
   "outputs": [],
   "source": [
    "learning_rate = 1e-3\n",
    "batch_size = 64\n",
    "epochs = 5"
   ]
  },
  {
   "cell_type": "markdown",
   "metadata": {},
   "source": [
    "Optimization Loop\n",
    "-----------------\n",
    "\n",
    "Once we set our hyperparameters, we can then train and optimize our model with an optimization loop. Each\n",
    "iteration of the optimization loop is called an **epoch**.\n",
    "\n",
    "Each epoch consists of two main parts:\n",
    " - **The Train Loop** - iterate over the training dataset and try to converge to optimal parameters.\n",
    " - **The Validation/Test Loop** - iterate over the test dataset to check if model performance is improving.\n",
    "\n",
    "Let's briefly familiarize ourselves with some of the concepts used in the training loop. Jump ahead to\n",
    "see the `full-impl-label` of the optimization loop.\n",
    "\n",
    "### Loss Function\n",
    "\n",
    "\n",
    "When presented with some training data, our untrained network is likely not to give the correct\n",
    "answer. **Loss function** measures the degree of dissimilarity of obtained result to the target value,\n",
    "and it is the loss function that we want to minimize during training. To calculate the loss we make a\n",
    "prediction using the inputs of our given data sample and compare it against the true data label value.\n",
    "\n",
    "Common loss functions include [`nn.MSELoss`](https://pytorch.org/docs/stable/generated/torch.nn.MSELoss.html#torch.nn.MSELoss) (Mean Square Error) for regression tasks, and\n",
    "[`nn.NLLLoss`](https://pytorch.org/docs/stable/generated/torch.nn.NLLLoss.html#torch.nn.NLLLoss) (Negative Log Likelihood) for classification.\n",
    "[`nn.CrossEntropyLoss`](https://pytorch.org/docs/stable/generated/torch.nn.CrossEntropyLoss.html#torch.nn.CrossEntropyLoss) combines ``nn.LogSoftmax`` and ``nn.NLLLoss``.\n",
    "\n",
    "We pass our model's output logits to ``nn.CrossEntropyLoss``, which will normalize the logits and compute the prediction error.\n",
    "\n"
   ]
  },
  {
   "cell_type": "code",
   "execution_count": 17,
   "metadata": {},
   "outputs": [],
   "source": [
    "# Initialize the loss function\n",
    "loss_fn = nn.CrossEntropyLoss()"
   ]
  },
  {
   "cell_type": "markdown",
   "metadata": {},
   "source": [
    "### Optimizer\n",
    "\n",
    "Optimization is the process of adjusting model parameters to reduce model error in each training step. **Optimization algorithms** define how this process is performed (in this example we use Stochastic Gradient Descent).\n",
    "All optimization logic is encapsulated in  the ``optimizer`` object. Here, we use the SGD optimizer; additionally, there are many [different optimizers](https://pytorch.org/docs/stable/optim.html)\n",
    "available in PyTorch such as ADAM and RMSProp, that work better for different kinds of models and data.\n",
    "\n",
    "We initialize the optimizer by registering the model's parameters that need to be trained, and passing in the learning rate hyperparameter.\n",
    "\n"
   ]
  },
  {
   "cell_type": "code",
   "execution_count": 18,
   "metadata": {},
   "outputs": [],
   "source": [
    "optimizer = torch.optim.SGD(model.parameters(), lr=learning_rate)"
   ]
  },
  {
   "cell_type": "markdown",
   "metadata": {},
   "source": [
    "Inside the training loop, optimization happens in three steps:\n",
    " * Call ``optimizer.zero_grad()`` to reset the gradients of model parameters. Gradients by default add up; to prevent double-counting, we explicitly zero them at each iteration.\n",
    " * Backpropagate the prediction loss with a call to ``loss.backward()``. PyTorch deposits the gradients of the loss w.r.t. each parameter.\n",
    " * Once we have our gradients, we call ``optimizer.step()`` to adjust the parameters by the gradients collected in the backward pass."
   ]
  },
  {
   "cell_type": "markdown",
   "metadata": {},
   "source": [
    "\n",
    "Full Implementation\n",
    "-----------------------\n",
    "We define ``train_loop`` that loops over our optimization code, and ``test_loop`` that\n",
    "evaluates the model's performance against our test data.\n"
   ]
  },
  {
   "cell_type": "code",
   "execution_count": 19,
   "metadata": {},
   "outputs": [],
   "source": [
    "def train_loop(dataloader, model, loss_fn, optimizer):\n",
    "    size = len(dataloader.dataset)\n",
    "    for batch, (X, y) in enumerate(dataloader):\n",
    "        # Compute prediction and loss\n",
    "        pred = model(X)\n",
    "        loss = loss_fn(pred, y)\n",
    "\n",
    "        # Backpropagation\n",
    "        optimizer.zero_grad()\n",
    "        loss.backward()\n",
    "        optimizer.step()\n",
    "\n",
    "        if batch % 100 == 0:\n",
    "            loss, current = loss.item(), batch * len(X)\n",
    "            print(f\"loss: {loss:>7f}  [{current:>5d}/{size:>5d}]\")\n",
    "\n",
    "\n",
    "def test_loop(dataloader, model, loss_fn):\n",
    "    size = len(dataloader.dataset)\n",
    "    num_batches = len(dataloader)\n",
    "    test_loss, correct = 0, 0\n",
    "\n",
    "    with torch.no_grad():\n",
    "        for X, y in dataloader:\n",
    "            pred = model(X)\n",
    "            test_loss += loss_fn(pred, y).item()\n",
    "            correct += (pred.argmax(1) == y).type(torch.float).sum().item()\n",
    "\n",
    "    test_loss /= num_batches\n",
    "    correct /= size\n",
    "    print(f\"Test Error: \\n Accuracy: {(100*correct):>0.1f}%, Avg loss: {test_loss:>8f} \\n\")"
   ]
  },
  {
   "cell_type": "markdown",
   "metadata": {},
   "source": [
    "We initialize the loss function and optimizer, and pass it to ``train_loop`` and ``test_loop``.\n",
    "Feel free to increase the number of epochs to track the model's improving performance.\n"
   ]
  },
  {
   "cell_type": "code",
   "execution_count": 20,
   "metadata": {
    "scrolled": false
   },
   "outputs": [
    {
     "name": "stdout",
     "output_type": "stream",
     "text": [
      "Epoch 1\n",
      "-------------------------------\n",
      "loss: 2.290766  [    0/60000]\n",
      "loss: 2.286922  [ 6400/60000]\n",
      "loss: 2.271526  [12800/60000]\n",
      "loss: 2.264180  [19200/60000]\n",
      "loss: 2.250502  [25600/60000]\n",
      "loss: 2.215572  [32000/60000]\n",
      "loss: 2.219085  [38400/60000]\n",
      "loss: 2.180056  [44800/60000]\n",
      "loss: 2.180419  [51200/60000]\n",
      "loss: 2.148534  [57600/60000]\n",
      "Test Error: \n",
      " Accuracy: 45.9%, Avg loss: 2.144918 \n",
      "\n",
      "Epoch 2\n",
      "-------------------------------\n",
      "loss: 2.151230  [    0/60000]\n",
      "loss: 2.142177  [ 6400/60000]\n",
      "loss: 2.092154  [12800/60000]\n",
      "loss: 2.100654  [19200/60000]\n",
      "loss: 2.049251  [25600/60000]\n",
      "loss: 1.991969  [32000/60000]\n",
      "loss: 2.005038  [38400/60000]\n",
      "loss: 1.928112  [44800/60000]\n",
      "loss: 1.936601  [51200/60000]\n",
      "loss: 1.856895  [57600/60000]\n",
      "Test Error: \n",
      " Accuracy: 54.8%, Avg loss: 1.861011 \n",
      "\n",
      "Epoch 3\n",
      "-------------------------------\n",
      "loss: 1.891505  [    0/60000]\n",
      "loss: 1.857284  [ 6400/60000]\n",
      "loss: 1.752995  [12800/60000]\n",
      "loss: 1.785443  [19200/60000]\n",
      "loss: 1.675676  [25600/60000]\n",
      "loss: 1.640156  [32000/60000]\n",
      "loss: 1.646651  [38400/60000]\n",
      "loss: 1.555150  [44800/60000]\n",
      "loss: 1.584827  [51200/60000]\n",
      "loss: 1.472262  [57600/60000]\n",
      "Test Error: \n",
      " Accuracy: 59.1%, Avg loss: 1.497837 \n",
      "\n",
      "Epoch 4\n",
      "-------------------------------\n",
      "loss: 1.560424  [    0/60000]\n",
      "loss: 1.523227  [ 6400/60000]\n",
      "loss: 1.387380  [12800/60000]\n",
      "loss: 1.451970  [19200/60000]\n",
      "loss: 1.342090  [25600/60000]\n",
      "loss: 1.347684  [32000/60000]\n",
      "loss: 1.355180  [38400/60000]\n",
      "loss: 1.279598  [44800/60000]\n",
      "loss: 1.317019  [51200/60000]\n",
      "loss: 1.214883  [57600/60000]\n",
      "Test Error: \n",
      " Accuracy: 62.7%, Avg loss: 1.244234 \n",
      "\n",
      "Epoch 5\n",
      "-------------------------------\n",
      "loss: 1.314083  [    0/60000]\n",
      "loss: 1.293974  [ 6400/60000]\n",
      "loss: 1.140221  [12800/60000]\n",
      "loss: 1.238815  [19200/60000]\n",
      "loss: 1.125113  [25600/60000]\n",
      "loss: 1.155968  [32000/60000]\n",
      "loss: 1.175886  [38400/60000]\n",
      "loss: 1.106784  [44800/60000]\n",
      "loss: 1.147700  [51200/60000]\n",
      "loss: 1.060832  [57600/60000]\n",
      "Test Error: \n",
      " Accuracy: 64.4%, Avg loss: 1.084028 \n",
      "\n",
      "Done!\n"
     ]
    }
   ],
   "source": [
    "loss_fn = nn.CrossEntropyLoss()\n",
    "optimizer = torch.optim.SGD(model.parameters(), lr=learning_rate)\n",
    "\n",
    "for t in range(epochs):\n",
    "    print(f\"Epoch {t+1}\\n-------------------------------\")\n",
    "    train_loop(train_dataloader, model, loss_fn, optimizer)\n",
    "    test_loop(test_dataloader, model, loss_fn)\n",
    "print(\"Done!\")"
   ]
  },
  {
   "cell_type": "markdown",
   "metadata": {},
   "source": [
    "Curious on how much faster training on a GPU is vs. training on a CPU?\n",
    "\n",
    "Try running the notebook on a different device!\n",
    "\n"
   ]
  },
  {
   "cell_type": "markdown",
   "metadata": {},
   "source": [
    "--------------\n",
    "\n",
    "\n"
   ]
  },
  {
   "cell_type": "markdown",
   "metadata": {},
   "source": [
    "Network Visualization\n",
    "-----------------------\n"
   ]
  },
  {
   "cell_type": "markdown",
   "metadata": {},
   "source": [
    "Looking at your architecture and checking all intermediate dimensions can be quite helpful. Look at the following visualization. Can you recognize all the parts of the network?"
   ]
  },
  {
   "cell_type": "code",
   "execution_count": 21,
   "metadata": {},
   "outputs": [],
   "source": [
    "from torchviz.dot import make_dot"
   ]
  },
  {
   "cell_type": "code",
   "execution_count": 22,
   "metadata": {},
   "outputs": [
    {
     "data": {
      "image/svg+xml": [
       "<?xml version=\"1.0\" encoding=\"UTF-8\" standalone=\"no\"?>\n",
       "<!DOCTYPE svg PUBLIC \"-//W3C//DTD SVG 1.1//EN\"\n",
       " \"http://www.w3.org/Graphics/SVG/1.1/DTD/svg11.dtd\">\n",
       "<!-- Generated by graphviz version 2.40.1 (0)\n",
       " -->\n",
       "<!-- Title: %3 Pages: 1 -->\n",
       "<svg width=\"671pt\" height=\"864pt\"\n",
       " viewBox=\"0.00 0.00 671.18 864.00\" xmlns=\"http://www.w3.org/2000/svg\" xmlns:xlink=\"http://www.w3.org/1999/xlink\">\n",
       "<g id=\"graph0\" class=\"graph\" transform=\"scale(.9182 .9182) rotate(0) translate(4 937)\">\n",
       "<title>%3</title>\n",
       "<polygon fill=\"#ffffff\" stroke=\"transparent\" points=\"-4,4 -4,-937 727,-937 727,4 -4,4\"/>\n",
       "<!-- 139945093133712 -->\n",
       "<g id=\"node1\" class=\"node\">\n",
       "<title>139945093133712</title>\n",
       "<polygon fill=\"#caff70\" stroke=\"#000000\" points=\"137.5,-31 83.5,-31 83.5,0 137.5,0 137.5,-31\"/>\n",
       "<text text-anchor=\"middle\" x=\"110.5\" y=\"-7\" font-family=\"monospace\" font-size=\"10.00\" fill=\"#000000\"> ()</text>\n",
       "</g>\n",
       "<!-- 139945093110848 -->\n",
       "<g id=\"node2\" class=\"node\">\n",
       "<title>139945093110848</title>\n",
       "<polygon fill=\"#d3d3d3\" stroke=\"#000000\" points=\"176,-119 45,-119 45,-67 176,-67 176,-119\"/>\n",
       "<text text-anchor=\"middle\" x=\"110.5\" y=\"-107\" font-family=\"monospace\" font-size=\"10.00\" fill=\"#000000\">MeanBackward0</text>\n",
       "<text text-anchor=\"middle\" x=\"110.5\" y=\"-96\" font-family=\"monospace\" font-size=\"10.00\" fill=\"#000000\">&#45;&#45;&#45;&#45;&#45;&#45;&#45;&#45;&#45;&#45;&#45;&#45;&#45;&#45;&#45;&#45;&#45;&#45;&#45;</text>\n",
       "<text text-anchor=\"middle\" x=\"110.5\" y=\"-85\" font-family=\"monospace\" font-size=\"10.00\" fill=\"#000000\">self_numel: &#160;&#160;&#160;&#160;&#160;10</text>\n",
       "<text text-anchor=\"middle\" x=\"110.5\" y=\"-74\" font-family=\"monospace\" font-size=\"10.00\" fill=\"#000000\">self_sizes: (1, 10)</text>\n",
       "</g>\n",
       "<!-- 139945093110848&#45;&gt;139945093133712 -->\n",
       "<g id=\"edge28\" class=\"edge\">\n",
       "<title>139945093110848&#45;&gt;139945093133712</title>\n",
       "<path fill=\"none\" stroke=\"#000000\" d=\"M110.5,-66.762C110.5,-58.5792 110.5,-49.5624 110.5,-41.4027\"/>\n",
       "<polygon fill=\"#000000\" stroke=\"#000000\" points=\"114.0001,-41.3117 110.5,-31.3118 107.0001,-41.3118 114.0001,-41.3117\"/>\n",
       "</g>\n",
       "<!-- 139945093111184 -->\n",
       "<g id=\"node3\" class=\"node\">\n",
       "<title>139945093111184</title>\n",
       "<polygon fill=\"#d3d3d3\" stroke=\"#000000\" points=\"322,-273 137,-273 137,-155 322,-155 322,-273\"/>\n",
       "<text text-anchor=\"middle\" x=\"229.5\" y=\"-261\" font-family=\"monospace\" font-size=\"10.00\" fill=\"#000000\">AddmmBackward0</text>\n",
       "<text text-anchor=\"middle\" x=\"229.5\" y=\"-250\" font-family=\"monospace\" font-size=\"10.00\" fill=\"#000000\">&#45;&#45;&#45;&#45;&#45;&#45;&#45;&#45;&#45;&#45;&#45;&#45;&#45;&#45;&#45;&#45;&#45;&#45;&#45;&#45;&#45;&#45;&#45;&#45;&#45;&#45;&#45;&#45;</text>\n",
       "<text text-anchor=\"middle\" x=\"229.5\" y=\"-239\" font-family=\"monospace\" font-size=\"10.00\" fill=\"#000000\">alpha &#160;&#160;&#160;&#160;&#160;&#160;: &#160;&#160;&#160;&#160;&#160;&#160;&#160;&#160;&#160;&#160;&#160;&#160;&#160;1</text>\n",
       "<text text-anchor=\"middle\" x=\"229.5\" y=\"-228\" font-family=\"monospace\" font-size=\"10.00\" fill=\"#000000\">beta &#160;&#160;&#160;&#160;&#160;&#160;&#160;: &#160;&#160;&#160;&#160;&#160;&#160;&#160;&#160;&#160;&#160;&#160;&#160;&#160;1</text>\n",
       "<text text-anchor=\"middle\" x=\"229.5\" y=\"-217\" font-family=\"monospace\" font-size=\"10.00\" fill=\"#000000\">mat1 &#160;&#160;&#160;&#160;&#160;&#160;&#160;: [saved tensor]</text>\n",
       "<text text-anchor=\"middle\" x=\"229.5\" y=\"-206\" font-family=\"monospace\" font-size=\"10.00\" fill=\"#000000\">mat1_sizes &#160;: &#160;&#160;&#160;&#160;&#160;&#160;(1, 512)</text>\n",
       "<text text-anchor=\"middle\" x=\"229.5\" y=\"-195\" font-family=\"monospace\" font-size=\"10.00\" fill=\"#000000\">mat1_strides: &#160;&#160;&#160;&#160;&#160;&#160;(512, 1)</text>\n",
       "<text text-anchor=\"middle\" x=\"229.5\" y=\"-184\" font-family=\"monospace\" font-size=\"10.00\" fill=\"#000000\">mat2 &#160;&#160;&#160;&#160;&#160;&#160;&#160;: [saved tensor]</text>\n",
       "<text text-anchor=\"middle\" x=\"229.5\" y=\"-173\" font-family=\"monospace\" font-size=\"10.00\" fill=\"#000000\">mat2_sizes &#160;: &#160;&#160;&#160;&#160;&#160;(512, 10)</text>\n",
       "<text text-anchor=\"middle\" x=\"229.5\" y=\"-162\" font-family=\"monospace\" font-size=\"10.00\" fill=\"#000000\">mat2_strides: &#160;&#160;&#160;&#160;&#160;&#160;(1, 512)</text>\n",
       "</g>\n",
       "<!-- 139945093111184&#45;&gt;139945093110848 -->\n",
       "<g id=\"edge1\" class=\"edge\">\n",
       "<title>139945093111184&#45;&gt;139945093110848</title>\n",
       "<path fill=\"none\" stroke=\"#000000\" d=\"M171.3944,-154.9179C161.7149,-145.0757 151.9862,-135.1834 143.2336,-126.2837\"/>\n",
       "<polygon fill=\"#000000\" stroke=\"#000000\" points=\"145.6409,-123.74 136.1336,-119.0644 140.6501,-128.6483 145.6409,-123.74\"/>\n",
       "</g>\n",
       "<!-- 139945093133952 -->\n",
       "<g id=\"node4\" class=\"node\">\n",
       "<title>139945093133952</title>\n",
       "<polygon fill=\"#ffa500\" stroke=\"#000000\" points=\"265,-108 194,-108 194,-78 265,-78 265,-108\"/>\n",
       "<text text-anchor=\"middle\" x=\"229.5\" y=\"-96\" font-family=\"monospace\" font-size=\"10.00\" fill=\"#000000\">mat1</text>\n",
       "<text text-anchor=\"middle\" x=\"229.5\" y=\"-85\" font-family=\"monospace\" font-size=\"10.00\" fill=\"#000000\"> (1, 512)</text>\n",
       "</g>\n",
       "<!-- 139945093111184&#45;&gt;139945093133952 -->\n",
       "<g id=\"edge2\" class=\"edge\">\n",
       "<title>139945093111184&#45;&gt;139945093133952</title>\n",
       "<path fill=\"none\" stroke=\"#000000\" d=\"M229.5,-154.9179C229.5,-137.6406 229.5,-120.209 229.5,-108.2634\"/>\n",
       "</g>\n",
       "<!-- 139945093134352 -->\n",
       "<g id=\"node5\" class=\"node\">\n",
       "<title>139945093134352</title>\n",
       "<polygon fill=\"#ffa500\" stroke=\"#000000\" points=\"360,-108 283,-108 283,-78 360,-78 360,-108\"/>\n",
       "<text text-anchor=\"middle\" x=\"321.5\" y=\"-96\" font-family=\"monospace\" font-size=\"10.00\" fill=\"#000000\">mat2</text>\n",
       "<text text-anchor=\"middle\" x=\"321.5\" y=\"-85\" font-family=\"monospace\" font-size=\"10.00\" fill=\"#000000\"> (512, 10)</text>\n",
       "</g>\n",
       "<!-- 139945093111184&#45;&gt;139945093134352 -->\n",
       "<g id=\"edge3\" class=\"edge\">\n",
       "<title>139945093111184&#45;&gt;139945093134352</title>\n",
       "<path fill=\"none\" stroke=\"#000000\" d=\"M274.422,-154.9179C287.5584,-137.6406 300.8121,-120.209 309.8948,-108.2634\"/>\n",
       "</g>\n",
       "<!-- 139945093110032 -->\n",
       "<g id=\"node6\" class=\"node\">\n",
       "<title>139945093110032</title>\n",
       "<polygon fill=\"#d3d3d3\" stroke=\"#000000\" points=\"152,-339 51,-339 51,-320 152,-320 152,-339\"/>\n",
       "<text text-anchor=\"middle\" x=\"101.5\" y=\"-327\" font-family=\"monospace\" font-size=\"10.00\" fill=\"#000000\">AccumulateGrad</text>\n",
       "</g>\n",
       "<!-- 139945093110032&#45;&gt;139945093111184 -->\n",
       "<g id=\"edge4\" class=\"edge\">\n",
       "<title>139945093110032&#45;&gt;139945093111184</title>\n",
       "<path fill=\"none\" stroke=\"#000000\" d=\"M112.4132,-319.6525C122.7287,-310.3444 139.1721,-295.5068 156.5137,-279.8588\"/>\n",
       "<polygon fill=\"#000000\" stroke=\"#000000\" points=\"158.9059,-282.4144 163.9855,-273.1166 154.2164,-277.2174 158.9059,-282.4144\"/>\n",
       "</g>\n",
       "<!-- 139945237680272 -->\n",
       "<g id=\"node7\" class=\"node\">\n",
       "<title>139945237680272</title>\n",
       "<polygon fill=\"#add8e6\" stroke=\"#000000\" points=\"161,-460 0,-460 0,-430 161,-430 161,-460\"/>\n",
       "<text text-anchor=\"middle\" x=\"80.5\" y=\"-448\" font-family=\"monospace\" font-size=\"10.00\" fill=\"#000000\">linear_relu_stack.4.bias</text>\n",
       "<text text-anchor=\"middle\" x=\"80.5\" y=\"-437\" font-family=\"monospace\" font-size=\"10.00\" fill=\"#000000\"> (10)</text>\n",
       "</g>\n",
       "<!-- 139945237680272&#45;&gt;139945093110032 -->\n",
       "<g id=\"edge5\" class=\"edge\">\n",
       "<title>139945237680272&#45;&gt;139945093110032</title>\n",
       "<path fill=\"none\" stroke=\"#000000\" d=\"M83.2454,-429.9004C87.0098,-409.1961 93.7787,-371.967 97.932,-349.1241\"/>\n",
       "<polygon fill=\"#000000\" stroke=\"#000000\" points=\"101.3907,-349.6662 99.7361,-339.2014 94.5036,-348.414 101.3907,-349.6662\"/>\n",
       "</g>\n",
       "<!-- 139945093111040 -->\n",
       "<g id=\"node8\" class=\"node\">\n",
       "<title>139945093111040</title>\n",
       "<polygon fill=\"#d3d3d3\" stroke=\"#000000\" points=\"671,-350 522,-350 522,-309 671,-309 671,-350\"/>\n",
       "<text text-anchor=\"middle\" x=\"596.5\" y=\"-338\" font-family=\"monospace\" font-size=\"10.00\" fill=\"#000000\">ReluBackward0</text>\n",
       "<text text-anchor=\"middle\" x=\"596.5\" y=\"-327\" font-family=\"monospace\" font-size=\"10.00\" fill=\"#000000\">&#45;&#45;&#45;&#45;&#45;&#45;&#45;&#45;&#45;&#45;&#45;&#45;&#45;&#45;&#45;&#45;&#45;&#45;&#45;&#45;&#45;&#45;</text>\n",
       "<text text-anchor=\"middle\" x=\"596.5\" y=\"-316\" font-family=\"monospace\" font-size=\"10.00\" fill=\"#000000\">result: [saved tensor]</text>\n",
       "</g>\n",
       "<!-- 139945093111040&#45;&gt;139945093111184 -->\n",
       "<g id=\"edge6\" class=\"edge\">\n",
       "<title>139945093111040&#45;&gt;139945093111184</title>\n",
       "<path fill=\"none\" stroke=\"#000000\" d=\"M531.3106,-308.984C476.0609,-291.5961 395.866,-266.3577 332.0267,-246.2666\"/>\n",
       "<polygon fill=\"#000000\" stroke=\"#000000\" points=\"332.9195,-242.8784 322.33,-243.2149 330.8181,-249.5555 332.9195,-242.8784\"/>\n",
       "</g>\n",
       "<!-- 139945093134192 -->\n",
       "<g id=\"node9\" class=\"node\">\n",
       "<title>139945093134192</title>\n",
       "<polygon fill=\"#ffa500\" stroke=\"#000000\" points=\"632,-229 561,-229 561,-199 632,-199 632,-229\"/>\n",
       "<text text-anchor=\"middle\" x=\"596.5\" y=\"-217\" font-family=\"monospace\" font-size=\"10.00\" fill=\"#000000\">result</text>\n",
       "<text text-anchor=\"middle\" x=\"596.5\" y=\"-206\" font-family=\"monospace\" font-size=\"10.00\" fill=\"#000000\"> (1, 512)</text>\n",
       "</g>\n",
       "<!-- 139945093111040&#45;&gt;139945093134192 -->\n",
       "<g id=\"edge7\" class=\"edge\">\n",
       "<title>139945093111040&#45;&gt;139945093134192</title>\n",
       "<path fill=\"none\" stroke=\"#000000\" d=\"M596.5,-308.8509C596.5,-286.0109 596.5,-249.744 596.5,-229.3077\"/>\n",
       "</g>\n",
       "<!-- 139945093111232 -->\n",
       "<g id=\"node10\" class=\"node\">\n",
       "<title>139945093111232</title>\n",
       "<polygon fill=\"#d3d3d3\" stroke=\"#000000\" points=\"607,-504 422,-504 422,-386 607,-386 607,-504\"/>\n",
       "<text text-anchor=\"middle\" x=\"514.5\" y=\"-492\" font-family=\"monospace\" font-size=\"10.00\" fill=\"#000000\">AddmmBackward0</text>\n",
       "<text text-anchor=\"middle\" x=\"514.5\" y=\"-481\" font-family=\"monospace\" font-size=\"10.00\" fill=\"#000000\">&#45;&#45;&#45;&#45;&#45;&#45;&#45;&#45;&#45;&#45;&#45;&#45;&#45;&#45;&#45;&#45;&#45;&#45;&#45;&#45;&#45;&#45;&#45;&#45;&#45;&#45;&#45;&#45;</text>\n",
       "<text text-anchor=\"middle\" x=\"514.5\" y=\"-470\" font-family=\"monospace\" font-size=\"10.00\" fill=\"#000000\">alpha &#160;&#160;&#160;&#160;&#160;&#160;: &#160;&#160;&#160;&#160;&#160;&#160;&#160;&#160;&#160;&#160;&#160;&#160;&#160;1</text>\n",
       "<text text-anchor=\"middle\" x=\"514.5\" y=\"-459\" font-family=\"monospace\" font-size=\"10.00\" fill=\"#000000\">beta &#160;&#160;&#160;&#160;&#160;&#160;&#160;: &#160;&#160;&#160;&#160;&#160;&#160;&#160;&#160;&#160;&#160;&#160;&#160;&#160;1</text>\n",
       "<text text-anchor=\"middle\" x=\"514.5\" y=\"-448\" font-family=\"monospace\" font-size=\"10.00\" fill=\"#000000\">mat1 &#160;&#160;&#160;&#160;&#160;&#160;&#160;: [saved tensor]</text>\n",
       "<text text-anchor=\"middle\" x=\"514.5\" y=\"-437\" font-family=\"monospace\" font-size=\"10.00\" fill=\"#000000\">mat1_sizes &#160;: &#160;&#160;&#160;&#160;&#160;&#160;(1, 512)</text>\n",
       "<text text-anchor=\"middle\" x=\"514.5\" y=\"-426\" font-family=\"monospace\" font-size=\"10.00\" fill=\"#000000\">mat1_strides: &#160;&#160;&#160;&#160;&#160;&#160;(512, 1)</text>\n",
       "<text text-anchor=\"middle\" x=\"514.5\" y=\"-415\" font-family=\"monospace\" font-size=\"10.00\" fill=\"#000000\">mat2 &#160;&#160;&#160;&#160;&#160;&#160;&#160;: [saved tensor]</text>\n",
       "<text text-anchor=\"middle\" x=\"514.5\" y=\"-404\" font-family=\"monospace\" font-size=\"10.00\" fill=\"#000000\">mat2_sizes &#160;: &#160;&#160;&#160;&#160;(512, 512)</text>\n",
       "<text text-anchor=\"middle\" x=\"514.5\" y=\"-393\" font-family=\"monospace\" font-size=\"10.00\" fill=\"#000000\">mat2_strides: &#160;&#160;&#160;&#160;&#160;&#160;(1, 512)</text>\n",
       "</g>\n",
       "<!-- 139945093111232&#45;&gt;139945093111040 -->\n",
       "<g id=\"edge8\" class=\"edge\">\n",
       "<title>139945093111232&#45;&gt;139945093111040</title>\n",
       "<path fill=\"none\" stroke=\"#000000\" d=\"M556.4609,-385.8966C563.2457,-376.3399 569.9954,-366.8326 575.9663,-358.4224\"/>\n",
       "<polygon fill=\"#000000\" stroke=\"#000000\" points=\"578.9404,-360.2793 581.8755,-350.0991 573.2326,-356.227 578.9404,-360.2793\"/>\n",
       "</g>\n",
       "<!-- 139945093133872 -->\n",
       "<g id=\"node11\" class=\"node\">\n",
       "<title>139945093133872</title>\n",
       "<polygon fill=\"#ffa500\" stroke=\"#000000\" points=\"504,-344.5 433,-344.5 433,-314.5 504,-314.5 504,-344.5\"/>\n",
       "<text text-anchor=\"middle\" x=\"468.5\" y=\"-332.5\" font-family=\"monospace\" font-size=\"10.00\" fill=\"#000000\">mat1</text>\n",
       "<text text-anchor=\"middle\" x=\"468.5\" y=\"-321.5\" font-family=\"monospace\" font-size=\"10.00\" fill=\"#000000\"> (1, 512)</text>\n",
       "</g>\n",
       "<!-- 139945093111232&#45;&gt;139945093133872 -->\n",
       "<g id=\"edge9\" class=\"edge\">\n",
       "<title>139945093111232&#45;&gt;139945093133872</title>\n",
       "<path fill=\"none\" stroke=\"#000000\" d=\"M490.961,-385.8966C484.8601,-370.5781 478.8098,-355.3867 474.5285,-344.6367\"/>\n",
       "</g>\n",
       "<!-- 139945093135072 -->\n",
       "<g id=\"node12\" class=\"node\">\n",
       "<title>139945093135072</title>\n",
       "<polygon fill=\"#ffa500\" stroke=\"#000000\" points=\"415,-344.5 332,-344.5 332,-314.5 415,-314.5 415,-344.5\"/>\n",
       "<text text-anchor=\"middle\" x=\"373.5\" y=\"-332.5\" font-family=\"monospace\" font-size=\"10.00\" fill=\"#000000\">mat2</text>\n",
       "<text text-anchor=\"middle\" x=\"373.5\" y=\"-321.5\" font-family=\"monospace\" font-size=\"10.00\" fill=\"#000000\"> (512, 512)</text>\n",
       "</g>\n",
       "<!-- 139945093111232&#45;&gt;139945093135072 -->\n",
       "<g id=\"edge10\" class=\"edge\">\n",
       "<title>139945093111232&#45;&gt;139945093135072</title>\n",
       "<path fill=\"none\" stroke=\"#000000\" d=\"M442.3478,-385.8966C423.6473,-370.5781 405.1019,-355.3867 391.9786,-344.6367\"/>\n",
       "</g>\n",
       "<!-- 139945093111328 -->\n",
       "<g id=\"node13\" class=\"node\">\n",
       "<title>139945093111328</title>\n",
       "<polygon fill=\"#d3d3d3\" stroke=\"#000000\" points=\"683,-570 582,-570 582,-551 683,-551 683,-570\"/>\n",
       "<text text-anchor=\"middle\" x=\"632.5\" y=\"-558\" font-family=\"monospace\" font-size=\"10.00\" fill=\"#000000\">AccumulateGrad</text>\n",
       "</g>\n",
       "<!-- 139945093111328&#45;&gt;139945093111232 -->\n",
       "<g id=\"edge11\" class=\"edge\">\n",
       "<title>139945093111328&#45;&gt;139945093111232</title>\n",
       "<path fill=\"none\" stroke=\"#000000\" d=\"M622.4394,-550.6525C613.0147,-541.4275 598.0412,-526.7713 582.2123,-511.2777\"/>\n",
       "<polygon fill=\"#000000\" stroke=\"#000000\" points=\"584.4908,-508.6104 574.8962,-504.1166 579.5943,-513.6128 584.4908,-508.6104\"/>\n",
       "</g>\n",
       "<!-- 139945237680432 -->\n",
       "<g id=\"node14\" class=\"node\">\n",
       "<title>139945237680432</title>\n",
       "<polygon fill=\"#add8e6\" stroke=\"#000000\" points=\"723,-691 562,-691 562,-661 723,-661 723,-691\"/>\n",
       "<text text-anchor=\"middle\" x=\"642.5\" y=\"-679\" font-family=\"monospace\" font-size=\"10.00\" fill=\"#000000\">linear_relu_stack.2.bias</text>\n",
       "<text text-anchor=\"middle\" x=\"642.5\" y=\"-668\" font-family=\"monospace\" font-size=\"10.00\" fill=\"#000000\"> (512)</text>\n",
       "</g>\n",
       "<!-- 139945237680432&#45;&gt;139945093111328 -->\n",
       "<g id=\"edge12\" class=\"edge\">\n",
       "<title>139945237680432&#45;&gt;139945093111328</title>\n",
       "<path fill=\"none\" stroke=\"#000000\" d=\"M641.1927,-660.9004C639.4082,-640.2903 636.2061,-603.3051 634.2261,-580.4365\"/>\n",
       "<polygon fill=\"#000000\" stroke=\"#000000\" points=\"637.6896,-579.8622 633.3399,-570.2014 630.7157,-580.4661 637.6896,-579.8622\"/>\n",
       "</g>\n",
       "<!-- 139945093110512 -->\n",
       "<g id=\"node15\" class=\"node\">\n",
       "<title>139945093110512</title>\n",
       "<polygon fill=\"#d3d3d3\" stroke=\"#000000\" points=\"458,-581 309,-581 309,-540 458,-540 458,-581\"/>\n",
       "<text text-anchor=\"middle\" x=\"383.5\" y=\"-569\" font-family=\"monospace\" font-size=\"10.00\" fill=\"#000000\">ReluBackward0</text>\n",
       "<text text-anchor=\"middle\" x=\"383.5\" y=\"-558\" font-family=\"monospace\" font-size=\"10.00\" fill=\"#000000\">&#45;&#45;&#45;&#45;&#45;&#45;&#45;&#45;&#45;&#45;&#45;&#45;&#45;&#45;&#45;&#45;&#45;&#45;&#45;&#45;&#45;&#45;</text>\n",
       "<text text-anchor=\"middle\" x=\"383.5\" y=\"-547\" font-family=\"monospace\" font-size=\"10.00\" fill=\"#000000\">result: [saved tensor]</text>\n",
       "</g>\n",
       "<!-- 139945093110512&#45;&gt;139945093111232 -->\n",
       "<g id=\"edge13\" class=\"edge\">\n",
       "<title>139945093110512&#45;&gt;139945093111232</title>\n",
       "<path fill=\"none\" stroke=\"#000000\" d=\"M406.9202,-539.8509C416.3379,-531.5475 427.7684,-521.4694 439.6172,-511.0226\"/>\n",
       "<polygon fill=\"#000000\" stroke=\"#000000\" points=\"442.2608,-513.358 447.447,-504.1193 437.6314,-508.1074 442.2608,-513.358\"/>\n",
       "</g>\n",
       "<!-- 139945093134912 -->\n",
       "<g id=\"node16\" class=\"node\">\n",
       "<title>139945093134912</title>\n",
       "<polygon fill=\"#ffa500\" stroke=\"#000000\" points=\"404,-460 333,-460 333,-430 404,-430 404,-460\"/>\n",
       "<text text-anchor=\"middle\" x=\"368.5\" y=\"-448\" font-family=\"monospace\" font-size=\"10.00\" fill=\"#000000\">result</text>\n",
       "<text text-anchor=\"middle\" x=\"368.5\" y=\"-437\" font-family=\"monospace\" font-size=\"10.00\" fill=\"#000000\"> (1, 512)</text>\n",
       "</g>\n",
       "<!-- 139945093110512&#45;&gt;139945093134912 -->\n",
       "<g id=\"edge14\" class=\"edge\">\n",
       "<title>139945093110512&#45;&gt;139945093134912</title>\n",
       "<path fill=\"none\" stroke=\"#000000\" d=\"M380.8183,-539.8509C377.8521,-517.0109 373.1421,-480.744 370.488,-460.3077\"/>\n",
       "</g>\n",
       "<!-- 139945093111424 -->\n",
       "<g id=\"node17\" class=\"node\">\n",
       "<title>139945093111424</title>\n",
       "<polygon fill=\"#d3d3d3\" stroke=\"#000000\" points=\"386,-735 201,-735 201,-617 386,-617 386,-735\"/>\n",
       "<text text-anchor=\"middle\" x=\"293.5\" y=\"-723\" font-family=\"monospace\" font-size=\"10.00\" fill=\"#000000\">AddmmBackward0</text>\n",
       "<text text-anchor=\"middle\" x=\"293.5\" y=\"-712\" font-family=\"monospace\" font-size=\"10.00\" fill=\"#000000\">&#45;&#45;&#45;&#45;&#45;&#45;&#45;&#45;&#45;&#45;&#45;&#45;&#45;&#45;&#45;&#45;&#45;&#45;&#45;&#45;&#45;&#45;&#45;&#45;&#45;&#45;&#45;&#45;</text>\n",
       "<text text-anchor=\"middle\" x=\"293.5\" y=\"-701\" font-family=\"monospace\" font-size=\"10.00\" fill=\"#000000\">alpha &#160;&#160;&#160;&#160;&#160;&#160;: &#160;&#160;&#160;&#160;&#160;&#160;&#160;&#160;&#160;&#160;&#160;&#160;&#160;1</text>\n",
       "<text text-anchor=\"middle\" x=\"293.5\" y=\"-690\" font-family=\"monospace\" font-size=\"10.00\" fill=\"#000000\">beta &#160;&#160;&#160;&#160;&#160;&#160;&#160;: &#160;&#160;&#160;&#160;&#160;&#160;&#160;&#160;&#160;&#160;&#160;&#160;&#160;1</text>\n",
       "<text text-anchor=\"middle\" x=\"293.5\" y=\"-679\" font-family=\"monospace\" font-size=\"10.00\" fill=\"#000000\">mat1 &#160;&#160;&#160;&#160;&#160;&#160;&#160;: [saved tensor]</text>\n",
       "<text text-anchor=\"middle\" x=\"293.5\" y=\"-668\" font-family=\"monospace\" font-size=\"10.00\" fill=\"#000000\">mat1_sizes &#160;: &#160;&#160;&#160;&#160;&#160;&#160;(1, 784)</text>\n",
       "<text text-anchor=\"middle\" x=\"293.5\" y=\"-657\" font-family=\"monospace\" font-size=\"10.00\" fill=\"#000000\">mat1_strides: &#160;&#160;&#160;&#160;&#160;&#160;&#160;&#160;&#160;&#160;&#160;&#160;()</text>\n",
       "<text text-anchor=\"middle\" x=\"293.5\" y=\"-646\" font-family=\"monospace\" font-size=\"10.00\" fill=\"#000000\">mat2 &#160;&#160;&#160;&#160;&#160;&#160;&#160;: &#160;&#160;&#160;&#160;&#160;&#160;&#160;&#160;&#160;&#160;None</text>\n",
       "<text text-anchor=\"middle\" x=\"293.5\" y=\"-635\" font-family=\"monospace\" font-size=\"10.00\" fill=\"#000000\">mat2_sizes &#160;: &#160;&#160;&#160;&#160;(784, 512)</text>\n",
       "<text text-anchor=\"middle\" x=\"293.5\" y=\"-624\" font-family=\"monospace\" font-size=\"10.00\" fill=\"#000000\">mat2_strides: &#160;&#160;&#160;&#160;&#160;&#160;(1, 784)</text>\n",
       "</g>\n",
       "<!-- 139945093111424&#45;&gt;139945093110512 -->\n",
       "<g id=\"edge15\" class=\"edge\">\n",
       "<title>139945093111424&#45;&gt;139945093110512</title>\n",
       "<path fill=\"none\" stroke=\"#000000\" d=\"M339.5546,-616.8966C347.0798,-607.2393 354.5656,-597.6325 361.1697,-589.1572\"/>\n",
       "<polygon fill=\"#000000\" stroke=\"#000000\" points=\"364.063,-591.1385 367.4487,-581.0991 358.5414,-586.8359 364.063,-591.1385\"/>\n",
       "</g>\n",
       "<!-- 139945093133632 -->\n",
       "<g id=\"node18\" class=\"node\">\n",
       "<title>139945093133632</title>\n",
       "<polygon fill=\"#ffa500\" stroke=\"#000000\" points=\"291,-575.5 220,-575.5 220,-545.5 291,-545.5 291,-575.5\"/>\n",
       "<text text-anchor=\"middle\" x=\"255.5\" y=\"-563.5\" font-family=\"monospace\" font-size=\"10.00\" fill=\"#000000\">mat1</text>\n",
       "<text text-anchor=\"middle\" x=\"255.5\" y=\"-552.5\" font-family=\"monospace\" font-size=\"10.00\" fill=\"#000000\"> (1, 784)</text>\n",
       "</g>\n",
       "<!-- 139945093111424&#45;&gt;139945093133632 -->\n",
       "<g id=\"edge16\" class=\"edge\">\n",
       "<title>139945093111424&#45;&gt;139945093133632</title>\n",
       "<path fill=\"none\" stroke=\"#000000\" d=\"M274.0547,-616.8966C269.0149,-601.5781 264.0168,-586.3867 260.48,-575.6367\"/>\n",
       "</g>\n",
       "<!-- 139945093111616 -->\n",
       "<g id=\"node19\" class=\"node\">\n",
       "<title>139945093111616</title>\n",
       "<polygon fill=\"#d3d3d3\" stroke=\"#000000\" points=\"367,-795.5 266,-795.5 266,-776.5 367,-776.5 367,-795.5\"/>\n",
       "<text text-anchor=\"middle\" x=\"316.5\" y=\"-783.5\" font-family=\"monospace\" font-size=\"10.00\" fill=\"#000000\">AccumulateGrad</text>\n",
       "</g>\n",
       "<!-- 139945093111616&#45;&gt;139945093111424 -->\n",
       "<g id=\"edge17\" class=\"edge\">\n",
       "<title>139945093111616&#45;&gt;139945093111424</title>\n",
       "<path fill=\"none\" stroke=\"#000000\" d=\"M314.4589,-776.2382C312.8714,-768.6457 310.5122,-757.3629 307.943,-745.0752\"/>\n",
       "<polygon fill=\"#000000\" stroke=\"#000000\" points=\"311.3208,-744.1285 305.8482,-735.0565 304.469,-745.5612 311.3208,-744.1285\"/>\n",
       "</g>\n",
       "<!-- 139945237683232 -->\n",
       "<g id=\"node20\" class=\"node\">\n",
       "<title>139945237683232</title>\n",
       "<polygon fill=\"#add8e6\" stroke=\"#000000\" points=\"408,-867 247,-867 247,-837 408,-837 408,-867\"/>\n",
       "<text text-anchor=\"middle\" x=\"327.5\" y=\"-855\" font-family=\"monospace\" font-size=\"10.00\" fill=\"#000000\">linear_relu_stack.0.bias</text>\n",
       "<text text-anchor=\"middle\" x=\"327.5\" y=\"-844\" font-family=\"monospace\" font-size=\"10.00\" fill=\"#000000\"> (512)</text>\n",
       "</g>\n",
       "<!-- 139945237683232&#45;&gt;139945093111616 -->\n",
       "<g id=\"edge18\" class=\"edge\">\n",
       "<title>139945237683232&#45;&gt;139945093111616</title>\n",
       "<path fill=\"none\" stroke=\"#000000\" d=\"M324.9487,-836.6924C323.4178,-827.5067 321.4541,-815.7245 319.8052,-805.8312\"/>\n",
       "<polygon fill=\"#000000\" stroke=\"#000000\" points=\"323.2136,-804.9916 318.1172,-795.7031 316.3089,-806.1424 323.2136,-804.9916\"/>\n",
       "</g>\n",
       "<!-- 139945093111568 -->\n",
       "<g id=\"node21\" class=\"node\">\n",
       "<title>139945093111568</title>\n",
       "<polygon fill=\"#d3d3d3\" stroke=\"#000000\" points=\"238,-795.5 161,-795.5 161,-776.5 238,-776.5 238,-795.5\"/>\n",
       "<text text-anchor=\"middle\" x=\"199.5\" y=\"-783.5\" font-family=\"monospace\" font-size=\"10.00\" fill=\"#000000\">TBackward0</text>\n",
       "</g>\n",
       "<!-- 139945093111568&#45;&gt;139945093111424 -->\n",
       "<g id=\"edge19\" class=\"edge\">\n",
       "<title>139945093111568&#45;&gt;139945093111424</title>\n",
       "<path fill=\"none\" stroke=\"#000000\" d=\"M207.8419,-776.2382C214.7155,-768.1947 225.1284,-756.0093 236.3521,-742.8752\"/>\n",
       "<polygon fill=\"#000000\" stroke=\"#000000\" points=\"239.1978,-744.9326 243.0335,-735.0565 233.8761,-740.3851 239.1978,-744.9326\"/>\n",
       "</g>\n",
       "<!-- 139945093111664 -->\n",
       "<g id=\"node22\" class=\"node\">\n",
       "<title>139945093111664</title>\n",
       "<polygon fill=\"#d3d3d3\" stroke=\"#000000\" points=\"229,-861.5 128,-861.5 128,-842.5 229,-842.5 229,-861.5\"/>\n",
       "<text text-anchor=\"middle\" x=\"178.5\" y=\"-849.5\" font-family=\"monospace\" font-size=\"10.00\" fill=\"#000000\">AccumulateGrad</text>\n",
       "</g>\n",
       "<!-- 139945093111664&#45;&gt;139945093111568 -->\n",
       "<g id=\"edge20\" class=\"edge\">\n",
       "<title>139945093111664&#45;&gt;139945093111568</title>\n",
       "<path fill=\"none\" stroke=\"#000000\" d=\"M181.5986,-842.2615C184.6695,-832.6102 189.4588,-817.558 193.3112,-805.4506\"/>\n",
       "<polygon fill=\"#000000\" stroke=\"#000000\" points=\"196.6918,-806.369 196.3887,-795.7785 190.0213,-804.2465 196.6918,-806.369\"/>\n",
       "</g>\n",
       "<!-- 139945237683312 -->\n",
       "<g id=\"node23\" class=\"node\">\n",
       "<title>139945237683312</title>\n",
       "<polygon fill=\"#add8e6\" stroke=\"#000000\" points=\"265,-933 92,-933 92,-903 265,-903 265,-933\"/>\n",
       "<text text-anchor=\"middle\" x=\"178.5\" y=\"-921\" font-family=\"monospace\" font-size=\"10.00\" fill=\"#000000\">linear_relu_stack.0.weight</text>\n",
       "<text text-anchor=\"middle\" x=\"178.5\" y=\"-910\" font-family=\"monospace\" font-size=\"10.00\" fill=\"#000000\"> (512, 784)</text>\n",
       "</g>\n",
       "<!-- 139945237683312&#45;&gt;139945093111664 -->\n",
       "<g id=\"edge21\" class=\"edge\">\n",
       "<title>139945237683312&#45;&gt;139945093111664</title>\n",
       "<path fill=\"none\" stroke=\"#000000\" d=\"M178.5,-902.6924C178.5,-893.5067 178.5,-881.7245 178.5,-871.8312\"/>\n",
       "<polygon fill=\"#000000\" stroke=\"#000000\" points=\"182.0001,-871.703 178.5,-861.7031 175.0001,-871.7031 182.0001,-871.703\"/>\n",
       "</g>\n",
       "<!-- 139945093110464 -->\n",
       "<g id=\"node24\" class=\"node\">\n",
       "<title>139945093110464</title>\n",
       "<polygon fill=\"#d3d3d3\" stroke=\"#000000\" points=\"553,-570 476,-570 476,-551 553,-551 553,-570\"/>\n",
       "<text text-anchor=\"middle\" x=\"514.5\" y=\"-558\" font-family=\"monospace\" font-size=\"10.00\" fill=\"#000000\">TBackward0</text>\n",
       "</g>\n",
       "<!-- 139945093110464&#45;&gt;139945093111232 -->\n",
       "<g id=\"edge22\" class=\"edge\">\n",
       "<title>139945093110464&#45;&gt;139945093111232</title>\n",
       "<path fill=\"none\" stroke=\"#000000\" d=\"M514.5,-550.6525C514.5,-542.0093 514.5,-528.5982 514.5,-514.1978\"/>\n",
       "<polygon fill=\"#000000\" stroke=\"#000000\" points=\"518.0001,-514.1166 514.5,-504.1166 511.0001,-514.1167 518.0001,-514.1166\"/>\n",
       "</g>\n",
       "<!-- 139945093111712 -->\n",
       "<g id=\"node25\" class=\"node\">\n",
       "<title>139945093111712</title>\n",
       "<polygon fill=\"#d3d3d3\" stroke=\"#000000\" points=\"544,-685.5 443,-685.5 443,-666.5 544,-666.5 544,-685.5\"/>\n",
       "<text text-anchor=\"middle\" x=\"493.5\" y=\"-673.5\" font-family=\"monospace\" font-size=\"10.00\" fill=\"#000000\">AccumulateGrad</text>\n",
       "</g>\n",
       "<!-- 139945093111712&#45;&gt;139945093110464 -->\n",
       "<g id=\"edge23\" class=\"edge\">\n",
       "<title>139945093111712&#45;&gt;139945093110464</title>\n",
       "<path fill=\"none\" stroke=\"#000000\" d=\"M495.2904,-666.1525C498.731,-647.2295 506.3267,-605.453 510.8683,-580.4746\"/>\n",
       "<polygon fill=\"#000000\" stroke=\"#000000\" points=\"514.3687,-580.7874 512.7141,-570.3225 507.4816,-579.5351 514.3687,-580.7874\"/>\n",
       "</g>\n",
       "<!-- 139945237680192 -->\n",
       "<g id=\"node26\" class=\"node\">\n",
       "<title>139945237680192</title>\n",
       "<polygon fill=\"#add8e6\" stroke=\"#000000\" points=\"580,-801 407,-801 407,-771 580,-771 580,-801\"/>\n",
       "<text text-anchor=\"middle\" x=\"493.5\" y=\"-789\" font-family=\"monospace\" font-size=\"10.00\" fill=\"#000000\">linear_relu_stack.2.weight</text>\n",
       "<text text-anchor=\"middle\" x=\"493.5\" y=\"-778\" font-family=\"monospace\" font-size=\"10.00\" fill=\"#000000\"> (512, 512)</text>\n",
       "</g>\n",
       "<!-- 139945237680192&#45;&gt;139945093111712 -->\n",
       "<g id=\"edge24\" class=\"edge\">\n",
       "<title>139945237680192&#45;&gt;139945093111712</title>\n",
       "<path fill=\"none\" stroke=\"#000000\" d=\"M493.5,-770.705C493.5,-751.1894 493.5,-717.3931 493.5,-695.8934\"/>\n",
       "<polygon fill=\"#000000\" stroke=\"#000000\" points=\"497.0001,-695.6473 493.5,-685.6473 490.0001,-695.6474 497.0001,-695.6473\"/>\n",
       "</g>\n",
       "<!-- 139945093110992 -->\n",
       "<g id=\"node27\" class=\"node\">\n",
       "<title>139945093110992</title>\n",
       "<polygon fill=\"#d3d3d3\" stroke=\"#000000\" points=\"268,-339 191,-339 191,-320 268,-320 268,-339\"/>\n",
       "<text text-anchor=\"middle\" x=\"229.5\" y=\"-327\" font-family=\"monospace\" font-size=\"10.00\" fill=\"#000000\">TBackward0</text>\n",
       "</g>\n",
       "<!-- 139945093110992&#45;&gt;139945093111184 -->\n",
       "<g id=\"edge25\" class=\"edge\">\n",
       "<title>139945093110992&#45;&gt;139945093111184</title>\n",
       "<path fill=\"none\" stroke=\"#000000\" d=\"M229.5,-319.6525C229.5,-311.0093 229.5,-297.5982 229.5,-283.1978\"/>\n",
       "<polygon fill=\"#000000\" stroke=\"#000000\" points=\"233.0001,-283.1166 229.5,-273.1166 226.0001,-283.1167 233.0001,-283.1166\"/>\n",
       "</g>\n",
       "<!-- 139945093111520 -->\n",
       "<g id=\"node28\" class=\"node\">\n",
       "<title>139945093111520</title>\n",
       "<polygon fill=\"#d3d3d3\" stroke=\"#000000\" points=\"280,-454.5 179,-454.5 179,-435.5 280,-435.5 280,-454.5\"/>\n",
       "<text text-anchor=\"middle\" x=\"229.5\" y=\"-442.5\" font-family=\"monospace\" font-size=\"10.00\" fill=\"#000000\">AccumulateGrad</text>\n",
       "</g>\n",
       "<!-- 139945093111520&#45;&gt;139945093110992 -->\n",
       "<g id=\"edge26\" class=\"edge\">\n",
       "<title>139945093111520&#45;&gt;139945093110992</title>\n",
       "<path fill=\"none\" stroke=\"#000000\" d=\"M229.5,-435.1525C229.5,-416.2295 229.5,-374.453 229.5,-349.4746\"/>\n",
       "<polygon fill=\"#000000\" stroke=\"#000000\" points=\"233.0001,-349.3225 229.5,-339.3225 226.0001,-349.3226 233.0001,-349.3225\"/>\n",
       "</g>\n",
       "<!-- 139945237680352 -->\n",
       "<g id=\"node29\" class=\"node\">\n",
       "<title>139945237680352</title>\n",
       "<polygon fill=\"#add8e6\" stroke=\"#000000\" points=\"202,-575.5 29,-575.5 29,-545.5 202,-545.5 202,-575.5\"/>\n",
       "<text text-anchor=\"middle\" x=\"115.5\" y=\"-563.5\" font-family=\"monospace\" font-size=\"10.00\" fill=\"#000000\">linear_relu_stack.4.weight</text>\n",
       "<text text-anchor=\"middle\" x=\"115.5\" y=\"-552.5\" font-family=\"monospace\" font-size=\"10.00\" fill=\"#000000\"> (10, 512)</text>\n",
       "</g>\n",
       "<!-- 139945237680352&#45;&gt;139945093111520 -->\n",
       "<g id=\"edge27\" class=\"edge\">\n",
       "<title>139945237680352&#45;&gt;139945093111520</title>\n",
       "<path fill=\"none\" stroke=\"#000000\" d=\"M130.4035,-545.4004C151.6749,-523.8492 190.6183,-484.3933 212.8244,-461.895\"/>\n",
       "<polygon fill=\"#000000\" stroke=\"#000000\" points=\"215.3909,-464.2772 219.9246,-454.7014 210.4088,-459.3599 215.3909,-464.2772\"/>\n",
       "</g>\n",
       "</g>\n",
       "</svg>\n"
      ],
      "text/plain": [
       "<graphviz.graphs.Digraph at 0x7f4781901ca0>"
      ]
     },
     "execution_count": 22,
     "metadata": {},
     "output_type": "execute_result"
    }
   ],
   "source": [
    "x = torch.randn(1, 1, 28, 28).requires_grad_(False)\n",
    "outputs = model(x)  # model forward\n",
    "\n",
    "make_dot(outputs.mean(), params=dict(model.named_parameters()), show_attrs=True, show_saved=True)"
   ]
  },
  {
   "cell_type": "markdown",
   "metadata": {},
   "source": [
    "So far - that's it for now. In the course you will dig deeper into the material and learn the details of the topics from above. So don't worry if there are things you don't yet fully understand!"
   ]
  },
  {
   "cell_type": "code",
   "execution_count": null,
   "metadata": {},
   "outputs": [],
   "source": []
  }
 ],
 "metadata": {
  "kernelspec": {
   "display_name": "Python 3",
   "language": "python",
   "name": "python3"
  },
  "language_info": {
   "codemirror_mode": {
    "name": "ipython",
    "version": 3
   },
   "file_extension": ".py",
   "mimetype": "text/x-python",
   "name": "python",
   "nbconvert_exporter": "python",
   "pygments_lexer": "ipython3",
   "version": "3.9.19"
  }
 },
 "nbformat": 4,
 "nbformat_minor": 1
}
